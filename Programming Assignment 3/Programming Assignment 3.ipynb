{
  "cells": [
    {
      "cell_type": "markdown",
      "metadata": {
        "id": "WJ90i7L2EptH"
      },
      "source": [
        "## **Programming Assignment 3**\n",
        "**LOGISTIC REGRESSION**"
      ]
    },
    {
      "cell_type": "markdown",
      "metadata": {
        "id": "UNuhprjzfMQK"
      },
      "source": [
        "---\n"
      ]
    },
    {
      "cell_type": "code",
      "execution_count": 6,
      "metadata": {
        "id": "P8IVQSDJb3n8"
      },
      "outputs": [],
      "source": [
        "!pip install ucimlrepo > /dev/null\n",
        "from ucimlrepo import fetch_ucirepo\n",
        "\n",
        "# Fetch the breast cancer dataset\n",
        "breast_cancer = fetch_ucirepo(id=17)\n",
        "\n",
        "# Use only the mean values for each feature\n",
        "x = breast_cancer.data.features\n",
        "x = x.filter(regex='1$')\n",
        "y = breast_cancer.data.targets\n",
        "\n",
        "#Import Required Libraries\n",
        "import pandas as pd\n",
        "import numpy as np\n",
        "import seaborn as sns\n",
        "import matplotlib.pyplot as plt\n",
        "from sklearn.model_selection import train_test_split\n",
        "from sklearn.pipeline import Pipeline\n",
        "from sklearn.preprocessing import StandardScaler\n",
        "from sklearn.linear_model import LogisticRegression\n",
        "from sklearn.metrics import confusion_matrix, ConfusionMatrixDisplay\n",
        "from sklearn.metrics import roc_curve, roc_auc_score"
      ]
    },
    {
      "cell_type": "markdown",
      "metadata": {
        "id": "30C5hA0ifLVY"
      },
      "source": [
        "*This script downloads the breast cancer dataset from the UCI repository, extracts the mean values for each feature, and assigns the target labels to the variable y. It imports essential libraries to support various operations: pandas and numpy are utilized for data manipulation and processing, while seaborn and matplotlib facilitate data visualization. Additionally, scikit-learn is employed for machine learning tasks, including logistic regression, data scaling, model evaluation, and plotting. These libraries collectively enable efficient data handling, model development, and performance assessment.*"
      ]
    },
    {
      "cell_type": "code",
      "execution_count": 7,
      "metadata": {
        "colab": {
          "base_uri": "https://localhost:8080/"
        },
        "id": "bf8x8SobgIk9",
        "outputId": "47b62ac6-7463-450c-fe90-b277ab9cc509"
      },
      "outputs": [
        {
          "name": "stdout",
          "output_type": "stream",
          "text": [
            "1) ID number\r\n",
            "2) Diagnosis (M = malignant, B = benign)\r\n",
            "3-32)\r\n",
            "\r\n",
            "Ten real-valued features are computed for each cell nucleus:\r\n",
            "\r\n",
            "\ta) radius (mean of distances from center to points on the perimeter)\r\n",
            "\tb) texture (standard deviation of gray-scale values)\r\n",
            "\tc) perimeter\r\n",
            "\td) area\r\n",
            "\te) smoothness (local variation in radius lengths)\r\n",
            "\tf) compactness (perimeter^2 / area - 1.0)\r\n",
            "\tg) concavity (severity of concave portions of the contour)\r\n",
            "\th) concave points (number of concave portions of the contour)\r\n",
            "\ti) symmetry \r\n",
            "\tj) fractal dimension (\"coastline approximation\" - 1)\n"
          ]
        }
      ],
      "source": [
        "print(str(breast_cancer.metadata.additional_info.variable_info))"
      ]
    },
    {
      "cell_type": "code",
      "execution_count": 8,
      "metadata": {
        "colab": {
          "base_uri": "https://localhost:8080/",
          "height": 226
        },
        "id": "zqPce5aggbo5",
        "outputId": "c26e6717-e8f8-43e3-80d1-63cfb8d2d37a"
      },
      "outputs": [
        {
          "data": {
            "application/vnd.google.colaboratory.intrinsic+json": {
              "summary": "{\n  \"name\": \"x\",\n  \"rows\": 569,\n  \"fields\": [\n    {\n      \"column\": \"radius1\",\n      \"properties\": {\n        \"dtype\": \"number\",\n        \"std\": 3.524048826212078,\n        \"min\": 6.981,\n        \"max\": 28.11,\n        \"num_unique_values\": 456,\n        \"samples\": [\n          11.87,\n          13.44,\n          12.96\n        ],\n        \"semantic_type\": \"\",\n        \"description\": \"\"\n      }\n    },\n    {\n      \"column\": \"texture1\",\n      \"properties\": {\n        \"dtype\": \"number\",\n        \"std\": 4.301035768166949,\n        \"min\": 9.71,\n        \"max\": 39.28,\n        \"num_unique_values\": 479,\n        \"samples\": [\n          17.84,\n          17.07,\n          18.57\n        ],\n        \"semantic_type\": \"\",\n        \"description\": \"\"\n      }\n    },\n    {\n      \"column\": \"perimeter1\",\n      \"properties\": {\n        \"dtype\": \"number\",\n        \"std\": 24.2989810387549,\n        \"min\": 43.79,\n        \"max\": 188.5,\n        \"num_unique_values\": 522,\n        \"samples\": [\n          92.25,\n          76.38,\n          119.6\n        ],\n        \"semantic_type\": \"\",\n        \"description\": \"\"\n      }\n    },\n    {\n      \"column\": \"area1\",\n      \"properties\": {\n        \"dtype\": \"number\",\n        \"std\": 351.9141291816527,\n        \"min\": 143.5,\n        \"max\": 2501.0,\n        \"num_unique_values\": 539,\n        \"samples\": [\n          556.7,\n          584.1,\n          458.4\n        ],\n        \"semantic_type\": \"\",\n        \"description\": \"\"\n      }\n    },\n    {\n      \"column\": \"smoothness1\",\n      \"properties\": {\n        \"dtype\": \"number\",\n        \"std\": 0.014064128137673616,\n        \"min\": 0.05263,\n        \"max\": 0.1634,\n        \"num_unique_values\": 474,\n        \"samples\": [\n          0.09427,\n          0.09003,\n          0.1186\n        ],\n        \"semantic_type\": \"\",\n        \"description\": \"\"\n      }\n    },\n    {\n      \"column\": \"compactness1\",\n      \"properties\": {\n        \"dtype\": \"number\",\n        \"std\": 0.0528127579325122,\n        \"min\": 0.01938,\n        \"max\": 0.3454,\n        \"num_unique_values\": 537,\n        \"samples\": [\n          0.1661,\n          0.128,\n          0.06373\n        ],\n        \"semantic_type\": \"\",\n        \"description\": \"\"\n      }\n    },\n    {\n      \"column\": \"concavity1\",\n      \"properties\": {\n        \"dtype\": \"number\",\n        \"std\": 0.0797198087078935,\n        \"min\": 0.0,\n        \"max\": 0.4268,\n        \"num_unique_values\": 537,\n        \"samples\": [\n          0.1411,\n          0.03372,\n          0.0271\n        ],\n        \"semantic_type\": \"\",\n        \"description\": \"\"\n      }\n    },\n    {\n      \"column\": \"concave_points1\",\n      \"properties\": {\n        \"dtype\": \"number\",\n        \"std\": 0.03880284485915359,\n        \"min\": 0.0,\n        \"max\": 0.2012,\n        \"num_unique_values\": 542,\n        \"samples\": [\n          0.1255,\n          0.05069,\n          0.07785\n        ],\n        \"semantic_type\": \"\",\n        \"description\": \"\"\n      }\n    },\n    {\n      \"column\": \"symmetry1\",\n      \"properties\": {\n        \"dtype\": \"number\",\n        \"std\": 0.027414281336035712,\n        \"min\": 0.106,\n        \"max\": 0.304,\n        \"num_unique_values\": 432,\n        \"samples\": [\n          0.1742,\n          0.1829,\n          0.1506\n        ],\n        \"semantic_type\": \"\",\n        \"description\": \"\"\n      }\n    },\n    {\n      \"column\": \"fractal_dimension1\",\n      \"properties\": {\n        \"dtype\": \"number\",\n        \"std\": 0.007060362795084459,\n        \"min\": 0.04996,\n        \"max\": 0.09744,\n        \"num_unique_values\": 499,\n        \"samples\": [\n          0.06739,\n          0.05914,\n          0.05754\n        ],\n        \"semantic_type\": \"\",\n        \"description\": \"\"\n      }\n    }\n  ]\n}",
              "type": "dataframe",
              "variable_name": "x"
            },
            "text/html": [
              "\n",
              "  <div id=\"df-6466e617-7d8f-41a1-be33-5b189466d22d\" class=\"colab-df-container\">\n",
              "    <div>\n",
              "<style scoped>\n",
              "    .dataframe tbody tr th:only-of-type {\n",
              "        vertical-align: middle;\n",
              "    }\n",
              "\n",
              "    .dataframe tbody tr th {\n",
              "        vertical-align: top;\n",
              "    }\n",
              "\n",
              "    .dataframe thead th {\n",
              "        text-align: right;\n",
              "    }\n",
              "</style>\n",
              "<table border=\"1\" class=\"dataframe\">\n",
              "  <thead>\n",
              "    <tr style=\"text-align: right;\">\n",
              "      <th></th>\n",
              "      <th>radius1</th>\n",
              "      <th>texture1</th>\n",
              "      <th>perimeter1</th>\n",
              "      <th>area1</th>\n",
              "      <th>smoothness1</th>\n",
              "      <th>compactness1</th>\n",
              "      <th>concavity1</th>\n",
              "      <th>concave_points1</th>\n",
              "      <th>symmetry1</th>\n",
              "      <th>fractal_dimension1</th>\n",
              "    </tr>\n",
              "  </thead>\n",
              "  <tbody>\n",
              "    <tr>\n",
              "      <th>0</th>\n",
              "      <td>17.99</td>\n",
              "      <td>10.38</td>\n",
              "      <td>122.80</td>\n",
              "      <td>1001.0</td>\n",
              "      <td>0.11840</td>\n",
              "      <td>0.27760</td>\n",
              "      <td>0.3001</td>\n",
              "      <td>0.14710</td>\n",
              "      <td>0.2419</td>\n",
              "      <td>0.07871</td>\n",
              "    </tr>\n",
              "    <tr>\n",
              "      <th>1</th>\n",
              "      <td>20.57</td>\n",
              "      <td>17.77</td>\n",
              "      <td>132.90</td>\n",
              "      <td>1326.0</td>\n",
              "      <td>0.08474</td>\n",
              "      <td>0.07864</td>\n",
              "      <td>0.0869</td>\n",
              "      <td>0.07017</td>\n",
              "      <td>0.1812</td>\n",
              "      <td>0.05667</td>\n",
              "    </tr>\n",
              "    <tr>\n",
              "      <th>2</th>\n",
              "      <td>19.69</td>\n",
              "      <td>21.25</td>\n",
              "      <td>130.00</td>\n",
              "      <td>1203.0</td>\n",
              "      <td>0.10960</td>\n",
              "      <td>0.15990</td>\n",
              "      <td>0.1974</td>\n",
              "      <td>0.12790</td>\n",
              "      <td>0.2069</td>\n",
              "      <td>0.05999</td>\n",
              "    </tr>\n",
              "    <tr>\n",
              "      <th>3</th>\n",
              "      <td>11.42</td>\n",
              "      <td>20.38</td>\n",
              "      <td>77.58</td>\n",
              "      <td>386.1</td>\n",
              "      <td>0.14250</td>\n",
              "      <td>0.28390</td>\n",
              "      <td>0.2414</td>\n",
              "      <td>0.10520</td>\n",
              "      <td>0.2597</td>\n",
              "      <td>0.09744</td>\n",
              "    </tr>\n",
              "    <tr>\n",
              "      <th>4</th>\n",
              "      <td>20.29</td>\n",
              "      <td>14.34</td>\n",
              "      <td>135.10</td>\n",
              "      <td>1297.0</td>\n",
              "      <td>0.10030</td>\n",
              "      <td>0.13280</td>\n",
              "      <td>0.1980</td>\n",
              "      <td>0.10430</td>\n",
              "      <td>0.1809</td>\n",
              "      <td>0.05883</td>\n",
              "    </tr>\n",
              "  </tbody>\n",
              "</table>\n",
              "</div>\n",
              "    <div class=\"colab-df-buttons\">\n",
              "\n",
              "  <div class=\"colab-df-container\">\n",
              "    <button class=\"colab-df-convert\" onclick=\"convertToInteractive('df-6466e617-7d8f-41a1-be33-5b189466d22d')\"\n",
              "            title=\"Convert this dataframe to an interactive table.\"\n",
              "            style=\"display:none;\">\n",
              "\n",
              "  <svg xmlns=\"http://www.w3.org/2000/svg\" height=\"24px\" viewBox=\"0 -960 960 960\">\n",
              "    <path d=\"M120-120v-720h720v720H120Zm60-500h600v-160H180v160Zm220 220h160v-160H400v160Zm0 220h160v-160H400v160ZM180-400h160v-160H180v160Zm440 0h160v-160H620v160ZM180-180h160v-160H180v160Zm440 0h160v-160H620v160Z\"/>\n",
              "  </svg>\n",
              "    </button>\n",
              "\n",
              "  <style>\n",
              "    .colab-df-container {\n",
              "      display:flex;\n",
              "      gap: 12px;\n",
              "    }\n",
              "\n",
              "    .colab-df-convert {\n",
              "      background-color: #E8F0FE;\n",
              "      border: none;\n",
              "      border-radius: 50%;\n",
              "      cursor: pointer;\n",
              "      display: none;\n",
              "      fill: #1967D2;\n",
              "      height: 32px;\n",
              "      padding: 0 0 0 0;\n",
              "      width: 32px;\n",
              "    }\n",
              "\n",
              "    .colab-df-convert:hover {\n",
              "      background-color: #E2EBFA;\n",
              "      box-shadow: 0px 1px 2px rgba(60, 64, 67, 0.3), 0px 1px 3px 1px rgba(60, 64, 67, 0.15);\n",
              "      fill: #174EA6;\n",
              "    }\n",
              "\n",
              "    .colab-df-buttons div {\n",
              "      margin-bottom: 4px;\n",
              "    }\n",
              "\n",
              "    [theme=dark] .colab-df-convert {\n",
              "      background-color: #3B4455;\n",
              "      fill: #D2E3FC;\n",
              "    }\n",
              "\n",
              "    [theme=dark] .colab-df-convert:hover {\n",
              "      background-color: #434B5C;\n",
              "      box-shadow: 0px 1px 3px 1px rgba(0, 0, 0, 0.15);\n",
              "      filter: drop-shadow(0px 1px 2px rgba(0, 0, 0, 0.3));\n",
              "      fill: #FFFFFF;\n",
              "    }\n",
              "  </style>\n",
              "\n",
              "    <script>\n",
              "      const buttonEl =\n",
              "        document.querySelector('#df-6466e617-7d8f-41a1-be33-5b189466d22d button.colab-df-convert');\n",
              "      buttonEl.style.display =\n",
              "        google.colab.kernel.accessAllowed ? 'block' : 'none';\n",
              "\n",
              "      async function convertToInteractive(key) {\n",
              "        const element = document.querySelector('#df-6466e617-7d8f-41a1-be33-5b189466d22d');\n",
              "        const dataTable =\n",
              "          await google.colab.kernel.invokeFunction('convertToInteractive',\n",
              "                                                    [key], {});\n",
              "        if (!dataTable) return;\n",
              "\n",
              "        const docLinkHtml = 'Like what you see? Visit the ' +\n",
              "          '<a target=\"_blank\" href=https://colab.research.google.com/notebooks/data_table.ipynb>data table notebook</a>'\n",
              "          + ' to learn more about interactive tables.';\n",
              "        element.innerHTML = '';\n",
              "        dataTable['output_type'] = 'display_data';\n",
              "        await google.colab.output.renderOutput(dataTable, element);\n",
              "        const docLink = document.createElement('div');\n",
              "        docLink.innerHTML = docLinkHtml;\n",
              "        element.appendChild(docLink);\n",
              "      }\n",
              "    </script>\n",
              "  </div>\n",
              "\n",
              "\n",
              "<div id=\"df-b9f8472b-24a2-4888-967f-6a885bf15331\">\n",
              "  <button class=\"colab-df-quickchart\" onclick=\"quickchart('df-b9f8472b-24a2-4888-967f-6a885bf15331')\"\n",
              "            title=\"Suggest charts\"\n",
              "            style=\"display:none;\">\n",
              "\n",
              "<svg xmlns=\"http://www.w3.org/2000/svg\" height=\"24px\"viewBox=\"0 0 24 24\"\n",
              "     width=\"24px\">\n",
              "    <g>\n",
              "        <path d=\"M19 3H5c-1.1 0-2 .9-2 2v14c0 1.1.9 2 2 2h14c1.1 0 2-.9 2-2V5c0-1.1-.9-2-2-2zM9 17H7v-7h2v7zm4 0h-2V7h2v10zm4 0h-2v-4h2v4z\"/>\n",
              "    </g>\n",
              "</svg>\n",
              "  </button>\n",
              "\n",
              "<style>\n",
              "  .colab-df-quickchart {\n",
              "      --bg-color: #E8F0FE;\n",
              "      --fill-color: #1967D2;\n",
              "      --hover-bg-color: #E2EBFA;\n",
              "      --hover-fill-color: #174EA6;\n",
              "      --disabled-fill-color: #AAA;\n",
              "      --disabled-bg-color: #DDD;\n",
              "  }\n",
              "\n",
              "  [theme=dark] .colab-df-quickchart {\n",
              "      --bg-color: #3B4455;\n",
              "      --fill-color: #D2E3FC;\n",
              "      --hover-bg-color: #434B5C;\n",
              "      --hover-fill-color: #FFFFFF;\n",
              "      --disabled-bg-color: #3B4455;\n",
              "      --disabled-fill-color: #666;\n",
              "  }\n",
              "\n",
              "  .colab-df-quickchart {\n",
              "    background-color: var(--bg-color);\n",
              "    border: none;\n",
              "    border-radius: 50%;\n",
              "    cursor: pointer;\n",
              "    display: none;\n",
              "    fill: var(--fill-color);\n",
              "    height: 32px;\n",
              "    padding: 0;\n",
              "    width: 32px;\n",
              "  }\n",
              "\n",
              "  .colab-df-quickchart:hover {\n",
              "    background-color: var(--hover-bg-color);\n",
              "    box-shadow: 0 1px 2px rgba(60, 64, 67, 0.3), 0 1px 3px 1px rgba(60, 64, 67, 0.15);\n",
              "    fill: var(--button-hover-fill-color);\n",
              "  }\n",
              "\n",
              "  .colab-df-quickchart-complete:disabled,\n",
              "  .colab-df-quickchart-complete:disabled:hover {\n",
              "    background-color: var(--disabled-bg-color);\n",
              "    fill: var(--disabled-fill-color);\n",
              "    box-shadow: none;\n",
              "  }\n",
              "\n",
              "  .colab-df-spinner {\n",
              "    border: 2px solid var(--fill-color);\n",
              "    border-color: transparent;\n",
              "    border-bottom-color: var(--fill-color);\n",
              "    animation:\n",
              "      spin 1s steps(1) infinite;\n",
              "  }\n",
              "\n",
              "  @keyframes spin {\n",
              "    0% {\n",
              "      border-color: transparent;\n",
              "      border-bottom-color: var(--fill-color);\n",
              "      border-left-color: var(--fill-color);\n",
              "    }\n",
              "    20% {\n",
              "      border-color: transparent;\n",
              "      border-left-color: var(--fill-color);\n",
              "      border-top-color: var(--fill-color);\n",
              "    }\n",
              "    30% {\n",
              "      border-color: transparent;\n",
              "      border-left-color: var(--fill-color);\n",
              "      border-top-color: var(--fill-color);\n",
              "      border-right-color: var(--fill-color);\n",
              "    }\n",
              "    40% {\n",
              "      border-color: transparent;\n",
              "      border-right-color: var(--fill-color);\n",
              "      border-top-color: var(--fill-color);\n",
              "    }\n",
              "    60% {\n",
              "      border-color: transparent;\n",
              "      border-right-color: var(--fill-color);\n",
              "    }\n",
              "    80% {\n",
              "      border-color: transparent;\n",
              "      border-right-color: var(--fill-color);\n",
              "      border-bottom-color: var(--fill-color);\n",
              "    }\n",
              "    90% {\n",
              "      border-color: transparent;\n",
              "      border-bottom-color: var(--fill-color);\n",
              "    }\n",
              "  }\n",
              "</style>\n",
              "\n",
              "  <script>\n",
              "    async function quickchart(key) {\n",
              "      const quickchartButtonEl =\n",
              "        document.querySelector('#' + key + ' button');\n",
              "      quickchartButtonEl.disabled = true;  // To prevent multiple clicks.\n",
              "      quickchartButtonEl.classList.add('colab-df-spinner');\n",
              "      try {\n",
              "        const charts = await google.colab.kernel.invokeFunction(\n",
              "            'suggestCharts', [key], {});\n",
              "      } catch (error) {\n",
              "        console.error('Error during call to suggestCharts:', error);\n",
              "      }\n",
              "      quickchartButtonEl.classList.remove('colab-df-spinner');\n",
              "      quickchartButtonEl.classList.add('colab-df-quickchart-complete');\n",
              "    }\n",
              "    (() => {\n",
              "      let quickchartButtonEl =\n",
              "        document.querySelector('#df-b9f8472b-24a2-4888-967f-6a885bf15331 button');\n",
              "      quickchartButtonEl.style.display =\n",
              "        google.colab.kernel.accessAllowed ? 'block' : 'none';\n",
              "    })();\n",
              "  </script>\n",
              "</div>\n",
              "\n",
              "    </div>\n",
              "  </div>\n"
            ],
            "text/plain": [
              "   radius1  texture1  perimeter1   area1  smoothness1  compactness1  \\\n",
              "0    17.99     10.38      122.80  1001.0      0.11840       0.27760   \n",
              "1    20.57     17.77      132.90  1326.0      0.08474       0.07864   \n",
              "2    19.69     21.25      130.00  1203.0      0.10960       0.15990   \n",
              "3    11.42     20.38       77.58   386.1      0.14250       0.28390   \n",
              "4    20.29     14.34      135.10  1297.0      0.10030       0.13280   \n",
              "\n",
              "   concavity1  concave_points1  symmetry1  fractal_dimension1  \n",
              "0      0.3001          0.14710     0.2419             0.07871  \n",
              "1      0.0869          0.07017     0.1812             0.05667  \n",
              "2      0.1974          0.12790     0.2069             0.05999  \n",
              "3      0.2414          0.10520     0.2597             0.09744  \n",
              "4      0.1980          0.10430     0.1809             0.05883  "
            ]
          },
          "execution_count": 8,
          "metadata": {},
          "output_type": "execute_result"
        }
      ],
      "source": [
        "#Display the first few rows of the features:\n",
        "x.head()"
      ]
    },
    {
      "cell_type": "code",
      "execution_count": 9,
      "metadata": {
        "colab": {
          "base_uri": "https://localhost:8080/",
          "height": 206
        },
        "id": "Yg_1JSSqC93G",
        "outputId": "7782387b-b7bc-462d-f9c5-b4f94f850617"
      },
      "outputs": [
        {
          "data": {
            "application/vnd.google.colaboratory.intrinsic+json": {
              "summary": "{\n  \"name\": \"y\",\n  \"rows\": 569,\n  \"fields\": [\n    {\n      \"column\": \"Diagnosis\",\n      \"properties\": {\n        \"dtype\": \"category\",\n        \"num_unique_values\": 2,\n        \"samples\": [\n          \"B\",\n          \"M\"\n        ],\n        \"semantic_type\": \"\",\n        \"description\": \"\"\n      }\n    }\n  ]\n}",
              "type": "dataframe",
              "variable_name": "y"
            },
            "text/html": [
              "\n",
              "  <div id=\"df-50e0c701-be30-4ada-ac56-d363ac1a540a\" class=\"colab-df-container\">\n",
              "    <div>\n",
              "<style scoped>\n",
              "    .dataframe tbody tr th:only-of-type {\n",
              "        vertical-align: middle;\n",
              "    }\n",
              "\n",
              "    .dataframe tbody tr th {\n",
              "        vertical-align: top;\n",
              "    }\n",
              "\n",
              "    .dataframe thead th {\n",
              "        text-align: right;\n",
              "    }\n",
              "</style>\n",
              "<table border=\"1\" class=\"dataframe\">\n",
              "  <thead>\n",
              "    <tr style=\"text-align: right;\">\n",
              "      <th></th>\n",
              "      <th>Diagnosis</th>\n",
              "    </tr>\n",
              "  </thead>\n",
              "  <tbody>\n",
              "    <tr>\n",
              "      <th>0</th>\n",
              "      <td>M</td>\n",
              "    </tr>\n",
              "    <tr>\n",
              "      <th>1</th>\n",
              "      <td>M</td>\n",
              "    </tr>\n",
              "    <tr>\n",
              "      <th>2</th>\n",
              "      <td>M</td>\n",
              "    </tr>\n",
              "    <tr>\n",
              "      <th>3</th>\n",
              "      <td>M</td>\n",
              "    </tr>\n",
              "    <tr>\n",
              "      <th>4</th>\n",
              "      <td>M</td>\n",
              "    </tr>\n",
              "  </tbody>\n",
              "</table>\n",
              "</div>\n",
              "    <div class=\"colab-df-buttons\">\n",
              "\n",
              "  <div class=\"colab-df-container\">\n",
              "    <button class=\"colab-df-convert\" onclick=\"convertToInteractive('df-50e0c701-be30-4ada-ac56-d363ac1a540a')\"\n",
              "            title=\"Convert this dataframe to an interactive table.\"\n",
              "            style=\"display:none;\">\n",
              "\n",
              "  <svg xmlns=\"http://www.w3.org/2000/svg\" height=\"24px\" viewBox=\"0 -960 960 960\">\n",
              "    <path d=\"M120-120v-720h720v720H120Zm60-500h600v-160H180v160Zm220 220h160v-160H400v160Zm0 220h160v-160H400v160ZM180-400h160v-160H180v160Zm440 0h160v-160H620v160ZM180-180h160v-160H180v160Zm440 0h160v-160H620v160Z\"/>\n",
              "  </svg>\n",
              "    </button>\n",
              "\n",
              "  <style>\n",
              "    .colab-df-container {\n",
              "      display:flex;\n",
              "      gap: 12px;\n",
              "    }\n",
              "\n",
              "    .colab-df-convert {\n",
              "      background-color: #E8F0FE;\n",
              "      border: none;\n",
              "      border-radius: 50%;\n",
              "      cursor: pointer;\n",
              "      display: none;\n",
              "      fill: #1967D2;\n",
              "      height: 32px;\n",
              "      padding: 0 0 0 0;\n",
              "      width: 32px;\n",
              "    }\n",
              "\n",
              "    .colab-df-convert:hover {\n",
              "      background-color: #E2EBFA;\n",
              "      box-shadow: 0px 1px 2px rgba(60, 64, 67, 0.3), 0px 1px 3px 1px rgba(60, 64, 67, 0.15);\n",
              "      fill: #174EA6;\n",
              "    }\n",
              "\n",
              "    .colab-df-buttons div {\n",
              "      margin-bottom: 4px;\n",
              "    }\n",
              "\n",
              "    [theme=dark] .colab-df-convert {\n",
              "      background-color: #3B4455;\n",
              "      fill: #D2E3FC;\n",
              "    }\n",
              "\n",
              "    [theme=dark] .colab-df-convert:hover {\n",
              "      background-color: #434B5C;\n",
              "      box-shadow: 0px 1px 3px 1px rgba(0, 0, 0, 0.15);\n",
              "      filter: drop-shadow(0px 1px 2px rgba(0, 0, 0, 0.3));\n",
              "      fill: #FFFFFF;\n",
              "    }\n",
              "  </style>\n",
              "\n",
              "    <script>\n",
              "      const buttonEl =\n",
              "        document.querySelector('#df-50e0c701-be30-4ada-ac56-d363ac1a540a button.colab-df-convert');\n",
              "      buttonEl.style.display =\n",
              "        google.colab.kernel.accessAllowed ? 'block' : 'none';\n",
              "\n",
              "      async function convertToInteractive(key) {\n",
              "        const element = document.querySelector('#df-50e0c701-be30-4ada-ac56-d363ac1a540a');\n",
              "        const dataTable =\n",
              "          await google.colab.kernel.invokeFunction('convertToInteractive',\n",
              "                                                    [key], {});\n",
              "        if (!dataTable) return;\n",
              "\n",
              "        const docLinkHtml = 'Like what you see? Visit the ' +\n",
              "          '<a target=\"_blank\" href=https://colab.research.google.com/notebooks/data_table.ipynb>data table notebook</a>'\n",
              "          + ' to learn more about interactive tables.';\n",
              "        element.innerHTML = '';\n",
              "        dataTable['output_type'] = 'display_data';\n",
              "        await google.colab.output.renderOutput(dataTable, element);\n",
              "        const docLink = document.createElement('div');\n",
              "        docLink.innerHTML = docLinkHtml;\n",
              "        element.appendChild(docLink);\n",
              "      }\n",
              "    </script>\n",
              "  </div>\n",
              "\n",
              "\n",
              "<div id=\"df-c6c5e0af-4a5b-492a-a1b1-8b3c957cb315\">\n",
              "  <button class=\"colab-df-quickchart\" onclick=\"quickchart('df-c6c5e0af-4a5b-492a-a1b1-8b3c957cb315')\"\n",
              "            title=\"Suggest charts\"\n",
              "            style=\"display:none;\">\n",
              "\n",
              "<svg xmlns=\"http://www.w3.org/2000/svg\" height=\"24px\"viewBox=\"0 0 24 24\"\n",
              "     width=\"24px\">\n",
              "    <g>\n",
              "        <path d=\"M19 3H5c-1.1 0-2 .9-2 2v14c0 1.1.9 2 2 2h14c1.1 0 2-.9 2-2V5c0-1.1-.9-2-2-2zM9 17H7v-7h2v7zm4 0h-2V7h2v10zm4 0h-2v-4h2v4z\"/>\n",
              "    </g>\n",
              "</svg>\n",
              "  </button>\n",
              "\n",
              "<style>\n",
              "  .colab-df-quickchart {\n",
              "      --bg-color: #E8F0FE;\n",
              "      --fill-color: #1967D2;\n",
              "      --hover-bg-color: #E2EBFA;\n",
              "      --hover-fill-color: #174EA6;\n",
              "      --disabled-fill-color: #AAA;\n",
              "      --disabled-bg-color: #DDD;\n",
              "  }\n",
              "\n",
              "  [theme=dark] .colab-df-quickchart {\n",
              "      --bg-color: #3B4455;\n",
              "      --fill-color: #D2E3FC;\n",
              "      --hover-bg-color: #434B5C;\n",
              "      --hover-fill-color: #FFFFFF;\n",
              "      --disabled-bg-color: #3B4455;\n",
              "      --disabled-fill-color: #666;\n",
              "  }\n",
              "\n",
              "  .colab-df-quickchart {\n",
              "    background-color: var(--bg-color);\n",
              "    border: none;\n",
              "    border-radius: 50%;\n",
              "    cursor: pointer;\n",
              "    display: none;\n",
              "    fill: var(--fill-color);\n",
              "    height: 32px;\n",
              "    padding: 0;\n",
              "    width: 32px;\n",
              "  }\n",
              "\n",
              "  .colab-df-quickchart:hover {\n",
              "    background-color: var(--hover-bg-color);\n",
              "    box-shadow: 0 1px 2px rgba(60, 64, 67, 0.3), 0 1px 3px 1px rgba(60, 64, 67, 0.15);\n",
              "    fill: var(--button-hover-fill-color);\n",
              "  }\n",
              "\n",
              "  .colab-df-quickchart-complete:disabled,\n",
              "  .colab-df-quickchart-complete:disabled:hover {\n",
              "    background-color: var(--disabled-bg-color);\n",
              "    fill: var(--disabled-fill-color);\n",
              "    box-shadow: none;\n",
              "  }\n",
              "\n",
              "  .colab-df-spinner {\n",
              "    border: 2px solid var(--fill-color);\n",
              "    border-color: transparent;\n",
              "    border-bottom-color: var(--fill-color);\n",
              "    animation:\n",
              "      spin 1s steps(1) infinite;\n",
              "  }\n",
              "\n",
              "  @keyframes spin {\n",
              "    0% {\n",
              "      border-color: transparent;\n",
              "      border-bottom-color: var(--fill-color);\n",
              "      border-left-color: var(--fill-color);\n",
              "    }\n",
              "    20% {\n",
              "      border-color: transparent;\n",
              "      border-left-color: var(--fill-color);\n",
              "      border-top-color: var(--fill-color);\n",
              "    }\n",
              "    30% {\n",
              "      border-color: transparent;\n",
              "      border-left-color: var(--fill-color);\n",
              "      border-top-color: var(--fill-color);\n",
              "      border-right-color: var(--fill-color);\n",
              "    }\n",
              "    40% {\n",
              "      border-color: transparent;\n",
              "      border-right-color: var(--fill-color);\n",
              "      border-top-color: var(--fill-color);\n",
              "    }\n",
              "    60% {\n",
              "      border-color: transparent;\n",
              "      border-right-color: var(--fill-color);\n",
              "    }\n",
              "    80% {\n",
              "      border-color: transparent;\n",
              "      border-right-color: var(--fill-color);\n",
              "      border-bottom-color: var(--fill-color);\n",
              "    }\n",
              "    90% {\n",
              "      border-color: transparent;\n",
              "      border-bottom-color: var(--fill-color);\n",
              "    }\n",
              "  }\n",
              "</style>\n",
              "\n",
              "  <script>\n",
              "    async function quickchart(key) {\n",
              "      const quickchartButtonEl =\n",
              "        document.querySelector('#' + key + ' button');\n",
              "      quickchartButtonEl.disabled = true;  // To prevent multiple clicks.\n",
              "      quickchartButtonEl.classList.add('colab-df-spinner');\n",
              "      try {\n",
              "        const charts = await google.colab.kernel.invokeFunction(\n",
              "            'suggestCharts', [key], {});\n",
              "      } catch (error) {\n",
              "        console.error('Error during call to suggestCharts:', error);\n",
              "      }\n",
              "      quickchartButtonEl.classList.remove('colab-df-spinner');\n",
              "      quickchartButtonEl.classList.add('colab-df-quickchart-complete');\n",
              "    }\n",
              "    (() => {\n",
              "      let quickchartButtonEl =\n",
              "        document.querySelector('#df-c6c5e0af-4a5b-492a-a1b1-8b3c957cb315 button');\n",
              "      quickchartButtonEl.style.display =\n",
              "        google.colab.kernel.accessAllowed ? 'block' : 'none';\n",
              "    })();\n",
              "  </script>\n",
              "</div>\n",
              "\n",
              "    </div>\n",
              "  </div>\n"
            ],
            "text/plain": [
              "  Diagnosis\n",
              "0         M\n",
              "1         M\n",
              "2         M\n",
              "3         M\n",
              "4         M"
            ]
          },
          "execution_count": 9,
          "metadata": {},
          "output_type": "execute_result"
        }
      ],
      "source": [
        "#Display the first few rows of the target:\n",
        "y.head()"
      ]
    },
    {
      "cell_type": "markdown",
      "metadata": {
        "id": "8IPGz_q6gkFa"
      },
      "source": [
        "Convert the target labels from 'M' (Malignant) and 'B' (Benign) to binary format:\n",
        "\n",
        "\n",
        "\n",
        "\n",
        "\n",
        "\n",
        "\n",
        "\n"
      ]
    },
    {
      "cell_type": "code",
      "execution_count": 10,
      "metadata": {
        "colab": {
          "base_uri": "https://localhost:8080/",
          "height": 206
        },
        "collapsed": true,
        "id": "cYc_0x3Hgjcb",
        "outputId": "9d172099-90ae-4da9-d82b-eb02bb7b2580"
      },
      "outputs": [
        {
          "data": {
            "application/vnd.google.colaboratory.intrinsic+json": {
              "summary": "{\n  \"name\": \"y_copy\",\n  \"rows\": 569,\n  \"fields\": [\n    {\n      \"column\": \"Diagnosis\",\n      \"properties\": {\n        \"dtype\": \"number\",\n        \"std\": 0,\n        \"min\": 0,\n        \"max\": 1,\n        \"num_unique_values\": 2,\n        \"samples\": [\n          0,\n          1\n        ],\n        \"semantic_type\": \"\",\n        \"description\": \"\"\n      }\n    }\n  ]\n}",
              "type": "dataframe",
              "variable_name": "y_copy"
            },
            "text/html": [
              "\n",
              "  <div id=\"df-372ed5eb-fae4-4842-8c4e-ae53a9649388\" class=\"colab-df-container\">\n",
              "    <div>\n",
              "<style scoped>\n",
              "    .dataframe tbody tr th:only-of-type {\n",
              "        vertical-align: middle;\n",
              "    }\n",
              "\n",
              "    .dataframe tbody tr th {\n",
              "        vertical-align: top;\n",
              "    }\n",
              "\n",
              "    .dataframe thead th {\n",
              "        text-align: right;\n",
              "    }\n",
              "</style>\n",
              "<table border=\"1\" class=\"dataframe\">\n",
              "  <thead>\n",
              "    <tr style=\"text-align: right;\">\n",
              "      <th></th>\n",
              "      <th>Diagnosis</th>\n",
              "    </tr>\n",
              "  </thead>\n",
              "  <tbody>\n",
              "    <tr>\n",
              "      <th>0</th>\n",
              "      <td>1</td>\n",
              "    </tr>\n",
              "    <tr>\n",
              "      <th>1</th>\n",
              "      <td>1</td>\n",
              "    </tr>\n",
              "    <tr>\n",
              "      <th>2</th>\n",
              "      <td>1</td>\n",
              "    </tr>\n",
              "    <tr>\n",
              "      <th>3</th>\n",
              "      <td>1</td>\n",
              "    </tr>\n",
              "    <tr>\n",
              "      <th>4</th>\n",
              "      <td>1</td>\n",
              "    </tr>\n",
              "  </tbody>\n",
              "</table>\n",
              "</div>\n",
              "    <div class=\"colab-df-buttons\">\n",
              "\n",
              "  <div class=\"colab-df-container\">\n",
              "    <button class=\"colab-df-convert\" onclick=\"convertToInteractive('df-372ed5eb-fae4-4842-8c4e-ae53a9649388')\"\n",
              "            title=\"Convert this dataframe to an interactive table.\"\n",
              "            style=\"display:none;\">\n",
              "\n",
              "  <svg xmlns=\"http://www.w3.org/2000/svg\" height=\"24px\" viewBox=\"0 -960 960 960\">\n",
              "    <path d=\"M120-120v-720h720v720H120Zm60-500h600v-160H180v160Zm220 220h160v-160H400v160Zm0 220h160v-160H400v160ZM180-400h160v-160H180v160Zm440 0h160v-160H620v160ZM180-180h160v-160H180v160Zm440 0h160v-160H620v160Z\"/>\n",
              "  </svg>\n",
              "    </button>\n",
              "\n",
              "  <style>\n",
              "    .colab-df-container {\n",
              "      display:flex;\n",
              "      gap: 12px;\n",
              "    }\n",
              "\n",
              "    .colab-df-convert {\n",
              "      background-color: #E8F0FE;\n",
              "      border: none;\n",
              "      border-radius: 50%;\n",
              "      cursor: pointer;\n",
              "      display: none;\n",
              "      fill: #1967D2;\n",
              "      height: 32px;\n",
              "      padding: 0 0 0 0;\n",
              "      width: 32px;\n",
              "    }\n",
              "\n",
              "    .colab-df-convert:hover {\n",
              "      background-color: #E2EBFA;\n",
              "      box-shadow: 0px 1px 2px rgba(60, 64, 67, 0.3), 0px 1px 3px 1px rgba(60, 64, 67, 0.15);\n",
              "      fill: #174EA6;\n",
              "    }\n",
              "\n",
              "    .colab-df-buttons div {\n",
              "      margin-bottom: 4px;\n",
              "    }\n",
              "\n",
              "    [theme=dark] .colab-df-convert {\n",
              "      background-color: #3B4455;\n",
              "      fill: #D2E3FC;\n",
              "    }\n",
              "\n",
              "    [theme=dark] .colab-df-convert:hover {\n",
              "      background-color: #434B5C;\n",
              "      box-shadow: 0px 1px 3px 1px rgba(0, 0, 0, 0.15);\n",
              "      filter: drop-shadow(0px 1px 2px rgba(0, 0, 0, 0.3));\n",
              "      fill: #FFFFFF;\n",
              "    }\n",
              "  </style>\n",
              "\n",
              "    <script>\n",
              "      const buttonEl =\n",
              "        document.querySelector('#df-372ed5eb-fae4-4842-8c4e-ae53a9649388 button.colab-df-convert');\n",
              "      buttonEl.style.display =\n",
              "        google.colab.kernel.accessAllowed ? 'block' : 'none';\n",
              "\n",
              "      async function convertToInteractive(key) {\n",
              "        const element = document.querySelector('#df-372ed5eb-fae4-4842-8c4e-ae53a9649388');\n",
              "        const dataTable =\n",
              "          await google.colab.kernel.invokeFunction('convertToInteractive',\n",
              "                                                    [key], {});\n",
              "        if (!dataTable) return;\n",
              "\n",
              "        const docLinkHtml = 'Like what you see? Visit the ' +\n",
              "          '<a target=\"_blank\" href=https://colab.research.google.com/notebooks/data_table.ipynb>data table notebook</a>'\n",
              "          + ' to learn more about interactive tables.';\n",
              "        element.innerHTML = '';\n",
              "        dataTable['output_type'] = 'display_data';\n",
              "        await google.colab.output.renderOutput(dataTable, element);\n",
              "        const docLink = document.createElement('div');\n",
              "        docLink.innerHTML = docLinkHtml;\n",
              "        element.appendChild(docLink);\n",
              "      }\n",
              "    </script>\n",
              "  </div>\n",
              "\n",
              "\n",
              "<div id=\"df-8546b6ca-f365-4053-a37d-a082694450ad\">\n",
              "  <button class=\"colab-df-quickchart\" onclick=\"quickchart('df-8546b6ca-f365-4053-a37d-a082694450ad')\"\n",
              "            title=\"Suggest charts\"\n",
              "            style=\"display:none;\">\n",
              "\n",
              "<svg xmlns=\"http://www.w3.org/2000/svg\" height=\"24px\"viewBox=\"0 0 24 24\"\n",
              "     width=\"24px\">\n",
              "    <g>\n",
              "        <path d=\"M19 3H5c-1.1 0-2 .9-2 2v14c0 1.1.9 2 2 2h14c1.1 0 2-.9 2-2V5c0-1.1-.9-2-2-2zM9 17H7v-7h2v7zm4 0h-2V7h2v10zm4 0h-2v-4h2v4z\"/>\n",
              "    </g>\n",
              "</svg>\n",
              "  </button>\n",
              "\n",
              "<style>\n",
              "  .colab-df-quickchart {\n",
              "      --bg-color: #E8F0FE;\n",
              "      --fill-color: #1967D2;\n",
              "      --hover-bg-color: #E2EBFA;\n",
              "      --hover-fill-color: #174EA6;\n",
              "      --disabled-fill-color: #AAA;\n",
              "      --disabled-bg-color: #DDD;\n",
              "  }\n",
              "\n",
              "  [theme=dark] .colab-df-quickchart {\n",
              "      --bg-color: #3B4455;\n",
              "      --fill-color: #D2E3FC;\n",
              "      --hover-bg-color: #434B5C;\n",
              "      --hover-fill-color: #FFFFFF;\n",
              "      --disabled-bg-color: #3B4455;\n",
              "      --disabled-fill-color: #666;\n",
              "  }\n",
              "\n",
              "  .colab-df-quickchart {\n",
              "    background-color: var(--bg-color);\n",
              "    border: none;\n",
              "    border-radius: 50%;\n",
              "    cursor: pointer;\n",
              "    display: none;\n",
              "    fill: var(--fill-color);\n",
              "    height: 32px;\n",
              "    padding: 0;\n",
              "    width: 32px;\n",
              "  }\n",
              "\n",
              "  .colab-df-quickchart:hover {\n",
              "    background-color: var(--hover-bg-color);\n",
              "    box-shadow: 0 1px 2px rgba(60, 64, 67, 0.3), 0 1px 3px 1px rgba(60, 64, 67, 0.15);\n",
              "    fill: var(--button-hover-fill-color);\n",
              "  }\n",
              "\n",
              "  .colab-df-quickchart-complete:disabled,\n",
              "  .colab-df-quickchart-complete:disabled:hover {\n",
              "    background-color: var(--disabled-bg-color);\n",
              "    fill: var(--disabled-fill-color);\n",
              "    box-shadow: none;\n",
              "  }\n",
              "\n",
              "  .colab-df-spinner {\n",
              "    border: 2px solid var(--fill-color);\n",
              "    border-color: transparent;\n",
              "    border-bottom-color: var(--fill-color);\n",
              "    animation:\n",
              "      spin 1s steps(1) infinite;\n",
              "  }\n",
              "\n",
              "  @keyframes spin {\n",
              "    0% {\n",
              "      border-color: transparent;\n",
              "      border-bottom-color: var(--fill-color);\n",
              "      border-left-color: var(--fill-color);\n",
              "    }\n",
              "    20% {\n",
              "      border-color: transparent;\n",
              "      border-left-color: var(--fill-color);\n",
              "      border-top-color: var(--fill-color);\n",
              "    }\n",
              "    30% {\n",
              "      border-color: transparent;\n",
              "      border-left-color: var(--fill-color);\n",
              "      border-top-color: var(--fill-color);\n",
              "      border-right-color: var(--fill-color);\n",
              "    }\n",
              "    40% {\n",
              "      border-color: transparent;\n",
              "      border-right-color: var(--fill-color);\n",
              "      border-top-color: var(--fill-color);\n",
              "    }\n",
              "    60% {\n",
              "      border-color: transparent;\n",
              "      border-right-color: var(--fill-color);\n",
              "    }\n",
              "    80% {\n",
              "      border-color: transparent;\n",
              "      border-right-color: var(--fill-color);\n",
              "      border-bottom-color: var(--fill-color);\n",
              "    }\n",
              "    90% {\n",
              "      border-color: transparent;\n",
              "      border-bottom-color: var(--fill-color);\n",
              "    }\n",
              "  }\n",
              "</style>\n",
              "\n",
              "  <script>\n",
              "    async function quickchart(key) {\n",
              "      const quickchartButtonEl =\n",
              "        document.querySelector('#' + key + ' button');\n",
              "      quickchartButtonEl.disabled = true;  // To prevent multiple clicks.\n",
              "      quickchartButtonEl.classList.add('colab-df-spinner');\n",
              "      try {\n",
              "        const charts = await google.colab.kernel.invokeFunction(\n",
              "            'suggestCharts', [key], {});\n",
              "      } catch (error) {\n",
              "        console.error('Error during call to suggestCharts:', error);\n",
              "      }\n",
              "      quickchartButtonEl.classList.remove('colab-df-spinner');\n",
              "      quickchartButtonEl.classList.add('colab-df-quickchart-complete');\n",
              "    }\n",
              "    (() => {\n",
              "      let quickchartButtonEl =\n",
              "        document.querySelector('#df-8546b6ca-f365-4053-a37d-a082694450ad button');\n",
              "      quickchartButtonEl.style.display =\n",
              "        google.colab.kernel.accessAllowed ? 'block' : 'none';\n",
              "    })();\n",
              "  </script>\n",
              "</div>\n",
              "\n",
              "    </div>\n",
              "  </div>\n"
            ],
            "text/plain": [
              "   Diagnosis\n",
              "0          1\n",
              "1          1\n",
              "2          1\n",
              "3          1\n",
              "4          1"
            ]
          },
          "execution_count": 10,
          "metadata": {},
          "output_type": "execute_result"
        }
      ],
      "source": [
        "# Ensure that we are working with a copy of the DataFrame to avoid SettingWithCopyWarning\n",
        "y_copy = y.copy()\n",
        "\n",
        "# Replacing the labels from M and B to 1 and 0, respectively\n",
        "y_copy['Diagnosis'] = y_copy['Diagnosis'].apply(lambda x: 1 if x == 'M' else 0).astype(int)\n",
        "\n",
        "# Display the first few rows to check the changes\n",
        "y_copy.head()"
      ]
    },
    {
      "cell_type": "markdown",
      "metadata": {
        "id": "ON_vhHcfhI__"
      },
      "source": [
        "**Generate and visualize the correlation matrix:**\n",
        "\n"
      ]
    },
    {
      "cell_type": "code",
      "execution_count": 11,
      "metadata": {
        "colab": {
          "base_uri": "https://localhost:8080/",
          "height": 551
        },
        "id": "5tnyJR5AhIsm",
        "outputId": "77f73606-7cb5-4bb8-99ed-6d3907867680"
      },
      "outputs": [
        {
          "data": {
            "image/png": "[encoded data removed]",
            "text/plain": [
              "<Figure size 600x600 with 2 Axes>"
            ]
          },
          "metadata": {},
          "output_type": "display_data"
        }
      ],
      "source": [
        "import matplotlib.pyplot as plt\n",
        "import seaborn as sns\n",
        "import matplotlib.colors as mcolors\n",
        "\n",
        "def heatmap(x):\n",
        "    # 1. Calculate correlation matrix\n",
        "    correlation_matrix = x.corr().round(2)\n",
        "\n",
        "    # 2. Create a figure and axes for the heatmap\n",
        "    plt.figure(figsize=(6, 6))\n",
        "\n",
        "    # 3. Define a custom black and pink colormap\n",
        "    colors = [(0, 0, 0), (1, 0.6, 0.8)]  # Black to pink\n",
        "    custom_cmap = mcolors.LinearSegmentedColormap.from_list(\"black_pink_cmap\", colors)\n",
        "\n",
        "    # 4. Create the heatmap\n",
        "    sns.heatmap(\n",
        "        correlation_matrix,          # Data to visualize\n",
        "        cmap=custom_cmap,            # Use our custom colormap\n",
        "        vmin=-1, vmax=1, center=0,  # Set color scale range\n",
        "        square=True, linewidths=.5,  # Make cells square and add lines\n",
        "        cbar_kws={\"shrink\": .5},     # Shrink the colorbar\n",
        "        annot=True, annot_kws={\"fontsize\": 7}  # Add annotations with font size 7\n",
        "    )\n",
        "\n",
        "    # 5. Show the heatmap\n",
        "    plt.show()\n",
        "\n",
        "# Call the function to create the heatmap\n",
        "heatmap(x)"
      ]
    },
    {
      "cell_type": "markdown",
      "metadata": {
        "id": "y1YrHzy3kSJN"
      },
      "source": [
        "*This code generates a heatmap that visualizes the relationships between various features in the breast cancer dataset. The color intensity and corresponding labels represent the strength and direction of the correlations, facilitating the identification of features with significant interdependencies.*"
      ]
    },
    {
      "cell_type": "markdown",
      "metadata": {
        "id": "VlxbR8yYGO0C"
      },
      "source": [
        "**Eliminate features to prevent multicollinearity:**\n",
        "\n",
        "\n",
        "\n",
        "\n",
        "\n",
        "\n"
      ]
    },
    {
      "cell_type": "code",
      "execution_count": 19,
      "metadata": {
        "colab": {
          "base_uri": "https://localhost:8080/",
          "height": 567
        },
        "id": "7qaSEheHkSdk",
        "outputId": "51ce29e4-2078-41f8-d585-434941d02829"
      },
      "outputs": [
        {
          "data": {
            "image/png": "[encoded data removed]",
            "text/plain": [
              "<Figure size 600x600 with 2 Axes>"
            ]
          },
          "metadata": {},
          "output_type": "display_data"
        }
      ],
      "source": [
        "x = x[['radius1', 'texture1', 'smoothness1', 'compactness1', 'symmetry1', 'fractal_dimension1']]\n",
        "heatmap(x)"
      ]
    },
    {
      "cell_type": "markdown",
      "metadata": {
        "id": "MP1-NtEClie4"
      },
      "source": [
        "**Part 3: Model Training**"
      ]
    },
    {
      "cell_type": "markdown",
      "metadata": {
        "id": "nRSuc-DSljGx"
      },
      "source": [
        "---\n",
        "*Divide the data into training and testing sets:*\n",
        "\n",
        "\n",
        "\n",
        "\n",
        "\n",
        "\n",
        "\n"
      ]
    },
    {
      "cell_type": "code",
      "execution_count": 13,
      "metadata": {
        "id": "GPjeijoKljcg"
      },
      "outputs": [],
      "source": [
        "x_train, x_test, y_train, y_test = train_test_split(x, y, stratify=y, test_size=0.3, random_state=7)"
      ]
    },
    {
      "cell_type": "markdown",
      "metadata": {
        "id": "41AaNElrl0pe"
      },
      "source": [
        "*Create a logistic regression pipeline:*"
      ]
    },
    {
      "cell_type": "code",
      "execution_count": 14,
      "metadata": {
        "id": "AYAZLc_Il062"
      },
      "outputs": [],
      "source": [
        "from sklearn.pipeline import Pipeline\n",
        "from sklearn.preprocessing import StandardScaler\n",
        "from sklearn.linear_model import LogisticRegression\n",
        "\n",
        "# Create a pipeline with StandardScaler and LogisticRegression\n",
        "model = Pipeline([('scaler', StandardScaler()), ('model', LogisticRegression())])\n",
        "\n",
        "# Fit the pipeline to the training set (flatten y_train using ravel())\n",
        "model.fit(x_train, y_train.values.ravel())\n",
        "\n",
        "# Use the model to predict the values for the test set\n",
        "y_pred = model.predict(x_test)"
      ]
    },
    {
      "cell_type": "markdown",
      "metadata": {
        "id": "7BMocBwymGin"
      },
      "source": [
        "*Evaluate the model:*"
      ]
    },
    {
      "cell_type": "code",
      "execution_count": 15,
      "metadata": {
        "colab": {
          "base_uri": "https://localhost:8080/",
          "height": 425
        },
        "id": "AkqboTEzmG1l",
        "outputId": "ac421390-de8c-4d8e-b7ff-0da3fc03988f"
      },
      "outputs": [
        {
          "data": {
            "text/html": [
              "<style type=\"text/css\">\n",
              "#T_c0f75_row0_col0, #T_c0f75_row0_col1, #T_c0f75_row1_col0, #T_c0f75_row1_col1, #T_c0f75_row2_col0, #T_c0f75_row2_col1, #T_c0f75_row3_col0, #T_c0f75_row3_col1, #T_c0f75_row4_col0, #T_c0f75_row4_col1, #T_c0f75_row5_col0, #T_c0f75_row5_col1, #T_c0f75_row6_col0, #T_c0f75_row6_col1, #T_c0f75_row7_col0, #T_c0f75_row7_col1, #T_c0f75_row8_col0, #T_c0f75_row8_col1, #T_c0f75_row9_col0, #T_c0f75_row9_col1, #T_c0f75_row10_col0, #T_c0f75_row10_col1, #T_c0f75_row11_col0, #T_c0f75_row11_col1 {\n",
              "  background-color: pink;\n",
              "}\n",
              "</style>\n",
              "<table id=\"T_c0f75\" class=\"dataframe\">\n",
              "  <thead>\n",
              "    <tr>\n",
              "      <th id=\"T_c0f75_level0_col0\" class=\"col_heading level0 col0\" >Feature</th>\n",
              "      <th id=\"T_c0f75_level0_col1\" class=\"col_heading level0 col1\" >Coefficient</th>\n",
              "    </tr>\n",
              "  </thead>\n",
              "  <tbody>\n",
              "    <tr>\n",
              "      <td id=\"T_c0f75_row0_col0\" class=\"data row0 col0\" >Training Accuracy</td>\n",
              "      <td id=\"T_c0f75_row0_col1\" class=\"data row0 col1\" >0.950000</td>\n",
              "    </tr>\n",
              "    <tr>\n",
              "      <td id=\"T_c0f75_row1_col0\" class=\"data row1 col0\" >Testing Accuracy</td>\n",
              "      <td id=\"T_c0f75_row1_col1\" class=\"data row1 col1\" >0.930000</td>\n",
              "    </tr>\n",
              "    <tr>\n",
              "      <td id=\"T_c0f75_row2_col0\" class=\"data row2 col0\" >radius1</td>\n",
              "      <td id=\"T_c0f75_row2_col1\" class=\"data row2 col1\" >1.050000</td>\n",
              "    </tr>\n",
              "    <tr>\n",
              "      <td id=\"T_c0f75_row3_col0\" class=\"data row3 col0\" >texture1</td>\n",
              "      <td id=\"T_c0f75_row3_col1\" class=\"data row3 col1\" >1.260000</td>\n",
              "    </tr>\n",
              "    <tr>\n",
              "      <td id=\"T_c0f75_row4_col0\" class=\"data row4 col0\" >perimeter1</td>\n",
              "      <td id=\"T_c0f75_row4_col1\" class=\"data row4 col1\" >1.020000</td>\n",
              "    </tr>\n",
              "    <tr>\n",
              "      <td id=\"T_c0f75_row5_col0\" class=\"data row5 col0\" >area1</td>\n",
              "      <td id=\"T_c0f75_row5_col1\" class=\"data row5 col1\" >1.140000</td>\n",
              "    </tr>\n",
              "    <tr>\n",
              "      <td id=\"T_c0f75_row6_col0\" class=\"data row6 col0\" >smoothness1</td>\n",
              "      <td id=\"T_c0f75_row6_col1\" class=\"data row6 col1\" >0.890000</td>\n",
              "    </tr>\n",
              "    <tr>\n",
              "      <td id=\"T_c0f75_row7_col0\" class=\"data row7 col0\" >compactness1</td>\n",
              "      <td id=\"T_c0f75_row7_col1\" class=\"data row7 col1\" >-0.350000</td>\n",
              "    </tr>\n",
              "    <tr>\n",
              "      <td id=\"T_c0f75_row8_col0\" class=\"data row8 col0\" >concavity1</td>\n",
              "      <td id=\"T_c0f75_row8_col1\" class=\"data row8 col1\" >1.140000</td>\n",
              "    </tr>\n",
              "    <tr>\n",
              "      <td id=\"T_c0f75_row9_col0\" class=\"data row9 col0\" >concave_points1</td>\n",
              "      <td id=\"T_c0f75_row9_col1\" class=\"data row9 col1\" >1.620000</td>\n",
              "    </tr>\n",
              "    <tr>\n",
              "      <td id=\"T_c0f75_row10_col0\" class=\"data row10 col0\" >symmetry1</td>\n",
              "      <td id=\"T_c0f75_row10_col1\" class=\"data row10 col1\" >0.360000</td>\n",
              "    </tr>\n",
              "    <tr>\n",
              "      <td id=\"T_c0f75_row11_col0\" class=\"data row11 col0\" >fractal_dimension1</td>\n",
              "      <td id=\"T_c0f75_row11_col1\" class=\"data row11 col1\" >-0.450000</td>\n",
              "    </tr>\n",
              "  </tbody>\n",
              "</table>\n"
            ],
            "text/plain": [
              "<pandas.io.formats.style.Styler at 0x7f6791ffba50>"
            ]
          },
          "metadata": {},
          "output_type": "display_data"
        }
      ],
      "source": [
        "import pandas as pd\n",
        "data = []\n",
        "for key, coef in zip(x.keys(), model.named_steps['model'].coef_[0]):\n",
        "    data.append([key, round(coef, 2)])  # Append feature and coefficient to data list\n",
        "\n",
        "# Create pandas DataFrame\n",
        "results_df = pd.DataFrame(data, columns=['Feature', 'Coefficient'])\n",
        "\n",
        "# Add accuracy rows to the DataFrame\n",
        "accuracy_data = [\n",
        "    ['Training Accuracy', round(model.score(x_train, y_train), 2)],\n",
        "    ['Testing Accuracy', round(model.score(x_test, y_test), 2)]\n",
        "]\n",
        "accuracy_df = pd.DataFrame(accuracy_data, columns=['Feature', 'Coefficient'])\n",
        "\n",
        "# Concatenate the DataFrames\n",
        "final_df = pd.concat([accuracy_df, results_df], ignore_index=True)\n",
        "\n",
        "# Style the table with pink background and hide index\n",
        "styled_final_df = final_df.style.set_properties(**{'background-color': 'pink'}).hide(axis=\"index\")\n",
        "\n",
        "# Display the styled DataFrame\n",
        "display(styled_final_df)"
      ]
    },
    {
      "cell_type": "markdown",
      "metadata": {
        "id": "A-dV4eP4qNsC"
      },
      "source": [
        "*Visualize the confusion matrix:*"
      ]
    },
    {
      "cell_type": "code",
      "execution_count": 16,
      "metadata": {
        "colab": {
          "base_uri": "https://localhost:8080/",
          "height": 472
        },
        "id": "B4917U-vqONE",
        "outputId": "f9c7a7a1-872e-4920-d94d-feb5e05d60fc"
      },
      "outputs": [
        {
          "data": {
            "image/png": "[encoded data removed]",
            "text/plain": [
              "<Figure size 640x480 with 2 Axes>"
            ]
          },
          "metadata": {},
          "output_type": "display_data"
        }
      ],
      "source": [
        "cfm = confusion_matrix(y_test, y_pred)\n",
        "cm_display = ConfusionMatrixDisplay(confusion_matrix=cfm, display_labels=[\"Benign\", \"Malignant\"])\n",
        "cm_display.plot(cmap='RdPu')\n",
        "plt.title('Confusion Matrix')\n",
        "plt.show()"
      ]
    },
    {
      "cell_type": "markdown",
      "metadata": {
        "id": "jMZL6JTwrj-z"
      },
      "source": [
        "*Calculate the evaluation metrics:*"
      ]
    },
    {
      "cell_type": "code",
      "execution_count": 17,
      "metadata": {
        "colab": {
          "base_uri": "https://localhost:8080/"
        },
        "id": "jzyg9uH5rjl7",
        "outputId": "3b2c0a69-0a36-4c47-e56e-2c08ef4e9d0f"
      },
      "outputs": [
        {
          "name": "stdout",
          "output_type": "stream",
          "text": [
            "| Metric           |     Value |\n",
            "|:-----------------|----------:|\n",
            "| Precision        | 0.948276  |\n",
            "| Recall           | 0.859375  |\n",
            "| False Alarm Rate | 0.0280374 |\n",
            "| F1-score         | 0.901639  |\n"
          ]
        }
      ],
      "source": [
        "TN, FP, FN, TP = cfm.ravel()\n",
        "precision = TP / (TP + FP)\n",
        "recall = TP / (TP + FN)\n",
        "far = FP / (FP + TN)\n",
        "f1 = 2 * (precision * recall) / (precision + recall)\n",
        "\n",
        "import pandas as pd\n",
        "# Store metrics in a dictionary\n",
        "metrics_data = {\n",
        "    \"Metric\": [\"Precision\", \"Recall\", \"False Alarm Rate\", \"F1-score\"],\n",
        "    \"Value\": [precision, recall, far, f1]\n",
        "}\n",
        "\n",
        "# Create a Pandas DataFrame\n",
        "metrics_df = pd.DataFrame(metrics_data)\n",
        "\n",
        "# Display the DataFrame as a table without the index\n",
        "print(metrics_df.to_markdown(index=False))"
      ]
    },
    {
      "cell_type": "markdown",
      "metadata": {
        "id": "rNXISfdDr7Pc"
      },
      "source": [
        "*Plot the ROC curve:*"
      ]
    },
    {
      "cell_type": "code",
      "execution_count": 18,
      "metadata": {
        "colab": {
          "base_uri": "https://localhost:8080/",
          "height": 576
        },
        "id": "qTPoaM0xr7jW",
        "outputId": "8e72bc81-97e7-4860-898f-497f5b71f815"
      },
      "outputs": [
        {
          "data": {
            "image/png": "[encoded data removed]",
            "text/plain": [
              "<Figure size 1000x600 with 1 Axes>"
            ]
          },
          "metadata": {},
          "output_type": "display_data"
        }
      ],
      "source": [
        "from sklearn.pipeline import Pipeline\n",
        "from sklearn.preprocessing import StandardScaler\n",
        "from sklearn.linear_model import LogisticRegression\n",
        "from sklearn.metrics import roc_curve, roc_auc_score\n",
        "import matplotlib.pyplot as plt\n",
        "import seaborn as sns\n",
        "\n",
        "# Ensure that we are working with a copy of the DataFrame to avoid SettingWithCopyWarning\n",
        "y_copy = y.copy()\n",
        "\n",
        "# Replacing the labels from M and B to 1 and 0, respectively\n",
        "y_copy['Diagnosis'] = y_copy['Diagnosis'].apply(lambda x: 1 if x == 'M' else 0).astype(int)\n",
        "\n",
        "# Split the dataset into training and testing sets\n",
        "x_train, x_test, y_train, y_test = train_test_split(x, y_copy['Diagnosis'], stratify=y_copy['Diagnosis'], test_size=0.3, random_state=7)\n",
        "\n",
        "# Create a pipeline with StandardScaler and LogisticRegression\n",
        "model = Pipeline([('scaler', StandardScaler()), ('model', LogisticRegression())])\n",
        "\n",
        "# Fit the pipeline to the training set (flatten y_train using ravel())\n",
        "model.fit(x_train, y_train)\n",
        "\n",
        "# Use the model to predict the probabilities for the train and test set\n",
        "y_train_probs = model.predict_proba(x_train)[:, 1]\n",
        "y_test_probs = model.predict_proba(x_test)[:, 1]\n",
        "\n",
        "# Compute ROC curve and AUC for training\n",
        "fpr_train, tpr_train, _ = roc_curve(y_train, y_train_probs)\n",
        "auc_train = roc_auc_score(y_train, y_train_probs)\n",
        "\n",
        "# Compute ROC curve and AUC for testing\n",
        "fpr_test, tpr_test, _ = roc_curve(y_test, y_test_probs)\n",
        "auc_test = roc_auc_score(y_test, y_test_probs)\n",
        "\n",
        "# Set the style for the plot\n",
        "sns.set(style=\"whitegrid\")\n",
        "\n",
        "# Plot ROC curves\n",
        "plt.figure(figsize=(10, 6))\n",
        "plt.plot(fpr_train, tpr_train, label=f\"Train ROC (AUC = {auc_train:.5f})\", color='lightpink', linewidth=2)\n",
        "plt.plot(fpr_test, tpr_test, label=f\"Test ROC (AUC = {auc_test:.5f})\", color='lightpink', linewidth=2)\n",
        "plt.plot([0, 1], [0, 1], 'k--', label=\"Random Classifier (AUC = 0.50)\", linewidth=1)\n",
        "\n",
        "# Add labels and legend\n",
        "plt.title(\"ROC Curve\", fontsize=16)\n",
        "plt.xlabel(\"False Positive Rate (FPR)\", fontsize=14)\n",
        "plt.ylabel(\"True Positive Rate (TPR)\", fontsize=14)\n",
        "plt.legend(loc=\"lower right\", fontsize=12)\n",
        "plt.grid(True)\n",
        "\n",
        "# Show the plot\n",
        "plt.show()"
      ]
    },
    {
      "cell_type": "markdown",
      "metadata": {
        "id": "bbo-ICOIsIoL"
      },
      "source": [
        "# **Guide Questions**"
      ]
    },
    {
      "cell_type": "markdown",
      "metadata": {
        "id": "JSRzPYaesOf3"
      },
      "source": [
        "**1. What steps are required to remove the \"Sample code number\" column?**\n",
        "\n",
        "*We can utilize the drop method in pandas to remove the 'Sample code number' column. This step is essential for eliminating irrelevant or unnecessary features from the dataset, ensuring the model can concentrate on the most pertinent attributes for predicting the target variable.*\n",
        "\n"
      ]
    },
    {
      "cell_type": "markdown",
      "metadata": {
        "id": "LPkgKdajsT3r"
      },
      "source": [
        "---\n",
        "\n",
        "**2. How can the \"Class\" values be converted into binary (0 and 1) form in Python?**\n",
        "\n",
        "\n",
        "*The \"Class\" values in the dataset can be transformed into binary format (0 and 1) using Python's map function. This conversion is essential for preparing categorical data in a format suitable for binary classification, allowing the model to accurately interpret and learn from the target variable. Specifically, benign and malignant classes are represented by the values 2 and 4, respectively. To perform the conversion, the \"Diagnosis\" column should be updated using the formula: Diagnosis = Diagnosis / 2 - 1.*"
      ]
    },
    {
      "cell_type": "markdown",
      "metadata": {
        "id": "3nvLIDdksXLV"
      },
      "source": [
        "---\n",
        "\n",
        "**3. What is the importance of splitting the dataset into training and testing sets?**\n",
        "\n",
        "*Splitting the dataset into training and testing subsets is a fundamental step in assessing a model's performance on unseen data. This practice is critical for evaluating the model's generalization capabilities and ensuring that its predictive accuracy is not limited to the data it was trained on, but extends reliably to new and previously unseen scenarios.*\n",
        "\n",
        "\n",
        "\n",
        "\n",
        "\n",
        "\n",
        "\n"
      ]
    },
    {
      "cell_type": "markdown",
      "metadata": {
        "id": "cIKIQGmTsjiL"
      },
      "source": [
        "\n",
        "\n",
        "---\n",
        "\n",
        "**4. Why is it necessary to use the stratify parameter in the train_test_split function?**\n",
        "\n",
        "*Utilizing the stratify parameter in the train_test_split function is crucial for maintaining the original class distribution across both the training and testing datasets. This helps ensure that the model is trained on a representative sample, thereby enhancing its ability to make accurate predictions for each class.*\n"
      ]
    },
    {
      "cell_type": "markdown",
      "metadata": {
        "id": "sgK3ZHQostdx"
      },
      "source": [
        "---\n",
        "\n",
        "\n",
        "**5. What is logistic regression, and why is it suitable for this dataset?**\n",
        "\n",
        "*Logistic Regression and Its Appropriateness for the Dataset: Logistic regression is a statistical technique commonly employed for binary classification tasks. Given that the target variable ('Class') in this dataset is binary, logistic regression is well-suited for predicting the probability of a tumor being either malignant or benign based on the provided features.*\n",
        "\n"
      ]
    },
    {
      "cell_type": "markdown",
      "metadata": {
        "id": "aNIGK-QiszZZ"
      },
      "source": [
        "\n",
        "\n",
        "---\n",
        "**6. How can the training and testing accuracy of the logistic regression model be calculated?**\n",
        "\n",
        "*Evaluating the Training and Testing Accuracy of the Logistic Regression Model: The accuracy of the logistic regression model for both the training and testing datasets can be assessed using the accuracy_score function from scikit-learn. This metric serves as an indicator of the model's performance, reflecting its ability to correctly predict the target variable across both datasets.*\n",
        "\n"
      ]
    },
    {
      "cell_type": "markdown",
      "metadata": {
        "id": "bKirAsRZCfcG"
      },
      "source": [
        "\n",
        "\n",
        "---\n",
        "**7. Which features in the dataset are most influential in determining the tumor status, and how can their importance be assessed?**:\n",
        "\n",
        "*The key influential features include radius, texture, smoothness, compactness, symmetry, and fractal dimension. The coefficients associated with these features emphasize their importance. Features with higher absolute coefficients have a greater impact on determining tumor status, underscoring their significance in predicting the likelihood of malignancy.*\n",
        "\n",
        "\n"
      ]
    },
    {
      "cell_type": "markdown",
      "metadata": {
        "id": "QBYlqpLZCgOH"
      },
      "source": [
        "\n",
        "\n",
        "---\n",
        "\n",
        "**8. How is a confusion matrix generated, and what does it represent?**\n",
        "\n",
        "*The confusion matrix can be generated using the confusion_matrix function from sklearn.metrics. It provides a comprehensive summary of the actual versus predicted values, highlighting the true positives, true negatives, false positives, and false negatives. This matrix offers valuable insights into the model's performance.*"
      ]
    },
    {
      "cell_type": "markdown",
      "metadata": {
        "id": "6UFpbR3CCjYy"
      },
      "source": [
        "\n",
        "\n",
        "---\n",
        "\n",
        "**9. How are precision, recall, F1-score, and false alarm rate calculated from the confusion matrix?**\n",
        "\n",
        "*These metrics can be derived from the confusion matrix using specific formulas, offering insights into the model's performance in terms of precision, recall, overall accuracy, and the rate of false positives or misclassifications. The formulas are as follows:*\n",
        "\n",
        "*   Precision: TP / (TP + FP)\n",
        "*   Recall: TP / (TP + FN)\n",
        "*   False Alarm Rate: FP / (FP + TN)\n",
        "*   F1-score: 2 * (precision * recall) / (precision + recall)\n"
      ]
    },
    {
      "cell_type": "markdown",
      "metadata": {
        "id": "-mvNOLJfCmg2"
      },
      "source": [
        "\n",
        "\n",
        "---\n",
        "**10. Why are these metrics important for evaluating the performance of a classifier?**\n",
        "\n",
        "*These metrics are critical for assessing a classifier's performance and can be prioritized based on the specific application. They provide a comprehensive insight into the model's predictive capabilities, including its precision, recall, and overall accuracy. These metrics are essential for evaluating the model's effectiveness and identifying areas for potential enhancement.*\n",
        "\n"
      ]
    },
    {
      "cell_type": "markdown",
      "metadata": {
        "id": "c290LV4ZCp3Q"
      },
      "source": [
        "\n",
        "\n",
        "---\n",
        "\n",
        "**11. What is an ROC curve, and how is it plotted for a logistic regression model?**\n",
        "\n",
        "*The ROC curve is generated by comparing the true positive rate (TPR) with the false positive rate (FPR), providing a comprehensive view of a model's performance across various thresholds. This curve visually represents the relationship between TPR and FPR, offering valuable insights into the model's ability to differentiate between classes. The curve can be plotted using the roc_curve function from scikit-learn, helping evaluate the model’s overall classification effectiveness.*\n"
      ]
    },
    {
      "cell_type": "markdown",
      "metadata": {
        "id": "wsyWb5plCsDQ"
      },
      "source": [
        "\n",
        "\n",
        "---\n",
        "**12. How is the AUC (Area Under the Curve) calculated, and what does it signify about the model's performance?**\n",
        "\n",
        "*Calculation and Significance of AUC: The Area Under the Receiver Operating Characteristic (ROC) Curve (AUC) quantifies a model's ability to distinguish between different classes. Higher AUC values signify superior model performance, indicating a greater proficiency in making accurate predictions.*\n",
        "\n"
      ]
    },
    {
      "cell_type": "markdown",
      "metadata": {
        "id": "4p8qVcMXCt3K"
      },
      "source": [
        "\n",
        "\n",
        "\n",
        "---\n",
        "**13. How do the training and testing ROC curves compare, and what insights can be derived from this comparison?**\n",
        "\n",
        "*The training ROC curve is generally superior to the testing ROC curve. A significant disparity between the two may indicate issues of underfitting or overfitting. Such discrepancies can provide valuable insights into the model's capacity to generalize and its performance on unseen data.*\n",
        "\n",
        "\n"
      ]
    },
    {
      "cell_type": "markdown",
      "metadata": {
        "id": "b2wBOxIrCxdH"
      },
      "source": [
        "\n",
        "\n",
        "---\n",
        "\n",
        "**14. What challenges did you encounter during the preprocessing or model training phases, and how did you address them?**\n",
        "\n",
        "*One of the primary challenges encountered was the preprocessing of the data, arising from discrepancies between the provided dataset and the accompanying documentation. By thoroughly analyzing and addressing the differences in features, this issue was effectively resolved. Other potential challenges include handling missing data, normalizing features, and addressing class imbalances. These can be mitigated through the application of appropriate preprocessing techniques and model adjustments, ultimately improving the model's robustness and predictive performance.*\n"
      ]
    },
    {
      "cell_type": "markdown",
      "metadata": {
        "id": "m3-IzgeJC07T"
      },
      "source": [
        "\n",
        "\n",
        "---\n",
        "**15. If the model's performance is not satisfactory, what adjustments could be made to improve it?**\n",
        "\n",
        "*To enhance the model's performance, potential adjustments may involve fine-tuning hyperparameters, selecting pertinent features, addressing class imbalances, or employing advanced modeling techniques. These modifications are critical for optimizing the model, improving accuracy, and bolstering its capacity for making dependable predictions.*\n",
        "\n"
      ]
    }
  ],
  "metadata": {
    "colab": {
      "provenance": []
    },
    "kernelspec": {
      "display_name": "Python 3",
      "name": "python3"
    },
    "language_info": {
      "name": "python"
    }
  },
  "nbformat": 4,
  "nbformat_minor": 0
}
